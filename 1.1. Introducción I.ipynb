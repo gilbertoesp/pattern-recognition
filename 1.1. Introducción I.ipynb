{
 "cells": [
  {
   "cell_type": "markdown",
   "metadata": {},
   "source": [
    "<div style=\"width:100%; overflow:hidden; background-color:#F1F1E6; padding: 10px; border-style: outset; color:#17469e\">\n",
    "    <div style=\"width: 80%; float: left;\">\n",
    "    <h2 align=\"center\">Universidad de Sonora</h2>\n",
    "    <hr style=\"border-width: 3px; border-color:#17469e\">\n",
    "          <h1>Reconocimiento de patrones: Introducción</h1>\n",
    "          <h4>Ramón Soto C. <a href=\"mailto:rsotoc@moviquest.com/\">(rsotoc@moviquest.com)</a></h4>\n",
    "    </div>\n",
    "    <div style=\"float: right;\">\n",
    "    <img src=\"images/escudo_unison.png\">\n",
    "    </div>\n",
    "</div>"
   ]
  },
  {
   "cell_type": "markdown",
   "metadata": {},
   "source": [
    "## Bases cognitivas\n",
    "\n",
    "Un *patrón* puede definirse como  una regularidad en un sistema. La capacidad de identificar estas regularidades es lo que nos permite reconocer objetos en ambientes complejos. Esta capacidad es lo que podemos llamar **Reconocimiento de patrones** \n",
    "\n",
    "![](images/patterns01.jpeg)<br>\n",
    "\n",
    "El reconocimiento de patrones es una habilidad natural del ser humano (y de la mayoría de los seres vivos), quien desde el surgimiento de la sociedad ha tratado de identificar las regularidades en un ambiente típicamente azaroso para generar modelos abstractos.\n",
    "\n",
    "[![](images/ptolemaic_small.jpg)](images/ptolemaic.jpg)<br>\n",
    "\n",
    "\n",
    "Los modelos utilizados por los seres humanos para dominar su entorno, son representaciones parciales de la realidad, limitadas por las capacidades del ser humano para sensar su entorno.\n",
    "\n",
    "![](images/protagoras.jpg)<br>\n",
    "\n",
    "Existen diferentes tipos de regularidades que pueden ser detectadas de forma natural por los humanos, entre las que se pueden destacar las siguientes: \n",
    "* **Armonía**: La armonía puede definirse como un arreglo agradable de las partes de un sistema. En las experiencias visuales, la armonía es algo que sea agradable a la vista, como determinadas combinaciones de colores. De la misma manera, podemos hablar de armonías auditivas, olfativas, gustativas o táctiles. \n",
    "![](images/armonias.jpg)<br>\n",
    "* **Ritmo**: El ritmo es cualquier movimiento regular y recurrente, marcado por la sucesión regular de elementos débiles y fuertes, o bien de condiciones opuestas o diferentes. \n",
    "![](images/rythm.jpg)<br>\n",
    "En la definición del ritmo, el movimiento puede hacer referencia a una secuencia 'apreciadas' de estados: un escalón que 'sigue a otro', por ejemplo. <br><br>\n",
    "* **Flujo**: Un flujo es el movimiento de un fluido. En arte visual, el flujo es la ilusión de movimiento en un conjunto que se obtiene a través de la manipulación de colores y formas. \n",
    "![](images/flujo.jpg)<br>\n",
    "* **Simetría**: La simetría se define como la 'correspondencia exacta en la disposición regular de las partes o puntos de un cuerpo o figura con relación a un centro, un eje o un plano'. \n",
    "![](images/simetrias.jpg)<br>\n",
    "* **Proporcionalidad**: La proporcionalidad es una relación o razón constante entre magnitudes medibles. \n",
    "![](images/proporcion.jpg)<br>"
   ]
  },
  {
   "cell_type": "markdown",
   "metadata": {},
   "source": [
    "## Pensamiento computacional\n",
    "\n",
    "El [*pensamiento computacional*](https://www.cs.cmu.edu/~15110-s13/Wing06-ct.pdf) es un concepto que describe el proceso de razonamiento que conduce a la resolución de un problema por medios computacionales. De caracter controversial, en algunos casos es presentado como una [tercera forma de generar conocimiento](https://www.americanscientist.org/article/computational-thinking-in-science), además de las formas tradicionales de teoría y experimentación. De acuerdo a este concepto, las actividades de resolución de problemas se pueden organizar en cuatro etapas: \n",
    "\n",
    "![](images/comp_thinking.png)<br>\n",
    "\n",
    "* Descomposición: En esta etapa, el problema se replantea en pequeños subproblemas más manejables.\n",
    "* *Reconocimiento de patrones*: En esta etapa, cada subproblema es analizado tratando de encontrar similaridades con otros casos resueltos u observados anteriormente.\n",
    "* Abstracción: Esta etapa consiste en replantear el problema global y sus subproblemas, así como la solución, tratando de eliminar los aspectos específicos al caso y generalizar problema y solución.\n",
    "* Algoritmos: Finalmente, se presenta la solución al problema en términos de una secuencia de pasos sistemáticos.\n",
    "\n",
    "Hay que notar que, en este contexto, el término de reconocimiento de patrones suele utilizarse de manera más general que el utilizado en ciencias de la computación."
   ]
  },
  {
   "cell_type": "markdown",
   "metadata": {},
   "source": [
    "## Definición y relación con otras disciplinas\n",
    "\n",
    "El **Reconocimiento de patrones** (**RP**) es una de las disciplinas en Ciencias de la Computación relacionadas con el análisis inteligente de datos. Su objetivo es la identificación de patrones o regularidades en los datos disponibles en un determinado contexto. Recientemente suele definirse como una [rama del aprendizaje automático](https://en.wikipedia.org/wiki/Pattern_recognition), sin embargo, su relación con ésta y otras disciplinas es más compleja.\n",
    "\n",
    "![](images/rp_y_otros.png)\n",
    "\n",
    "Los límites específicos de estas disciplinas no están bien definidos, como puede apreciarse de los siguientes esquemas, encontrados en la Web:\n",
    "\n",
    "[![](images/ai-infographic.gif)](http://www.firstalign.com/services/artificial-intelligence.html)\n",
    "\n",
    "[![](images/main-qimg.png)](https://www.quora.com/What-is-machine-learning-and-how-it-is-linked-to-Big-Data-Data-Mining)\n",
    "\n",
    "[![](images/ds-disciplines.png)](https://www.altexsoft.com/whitepapers/machine-learning-bridging-between-business-and-data-science/)"
   ]
  },
  {
   "cell_type": "markdown",
   "metadata": {},
   "source": [
    "## Industria 4.0 y la popularización de la IA\n",
    "\n",
    "La inteligencia artificial y otras áreas relacionadas, particularmente bajo las etiquetas de \"*Machine Learning*\", \"*Data Mining*\" y \"*Data Science*\", está viviendo una nueva etapa de popularidad, que en esta ocasión viene acompañada de un gran interés por parte de la industria. Este \"resurgimiento\" del área está fuertemente vinculada a la llamada \"economía de la información\" y a la creciente **Industria 4.0**. \n",
    "\n",
    "[![](images/Industry_4.0.png)](https://en.wikipedia.org/wiki/Industry_4.0)\n",
    "\n",
    "La adopción de las técnicas de inteligencia artificial se ha realizado en todos los ámbitos de la industria y con la participación de las empresas más importantes:\n",
    "\n",
    "[![](images/ia_landscape.png)](https://www.techemergence.com/artificial-intelligence-industry-an-overview-by-segment/)\n",
    "\n",
    "<br><br>En la siguiente gráfica se presenta un panorama sobre tendencias del uso de la IA en la industria para los próximos años:\n",
    "\n",
    "[![](images/te_research.png)](https://www.techemergence.com/ai-founders-and-executives-predict-5-year-trends-on-consumer-tech/)\n",
    "\n",
    "<br><br>Por otra parte, el interés de la industria en la IA se evidencia a través de las adquisiciones de empresas de AI realizadas por los gigantes tecnológicos:\n",
    "\n",
    "[![](images/ai_buys_giants.jpg)](https://twitter.com/MrJoseHernandez/status/939235139355398149)"
   ]
  },
  {
   "cell_type": "markdown",
   "metadata": {},
   "source": [
    "## Conclusiones\n",
    "\n",
    "* El reconocimiento de patrones es una disciplina que busca explotar las capacidades naturales del ser humano para identificar regularidades en grandes volúmenes de observaciones con el fin de explicar el comportamiento de sistemas complejos. \n",
    "\n",
    "* Aunque actualmente se han puesto de moda muchos otros términos relacionados con el análisis de datos, el reconocimiento de patrones sigue siendo una de las áreas fundamentales para este fin.\n",
    "\n",
    "* Actualmente se vive una etapa de gran popularidad del área, gracias al creciente interés de la industria por incorporar las metodologías inteligentes de análisis de datos a procesos reales y con impacto práctico.\n",
    "\n",
    "* Para poder impactar en este creciente mercado, es importante dominar técnicas avanzadas de reconocimiento de patrones, lo mismo que sistematizar su uso en la solución de problemas reales."
   ]
  },
  {
   "cell_type": "markdown",
   "metadata": {},
   "source": [
    "<hr style=\"border-width: 3px;\">\n",
    "\n",
    "###### <a name=\"tarea_1\">Tarea 1</a>\n",
    "\n",
    "Describa un problema de reconocimiento de patrones de su interés y explique por qué un modelo tradicional sería inapropiado para resolverlo (utilice la celda siguiente, en esta libreta, para presentar su problema seleccionado).\n",
    "\n",
    "**Fecha de entrega**: 17 de agosto."
   ]
  },
  {
   "cell_type": "markdown",
   "metadata": {},
   "source": [
    "<hr style=\"border-width: 3px;\">\n",
    "\n",
    "### Problema: Spotify's Worldwide Daily Song Ranking\n",
    "### Caso de Estudio: [*Spotify's Worldwide Daily Song Ranking*](https://www.kaggle.com/edumucelli/spotifys-worldwide-daily-song-ranking/home)\n",
    "#### Autor: Gilberto Espinoza\n",
    "\n",
    "Esta esta una base de datos que habla sobre musica, una expresion de arte, la cual no puede ser facilmente cuantificada. Especificamente se nos muestra las canciones mas escuchadas en una variedad de 53 paises, estas canciones varian en artistas y genero, que podemos decir del gusto de todo un pais, de todo un planeta. Buscar las similitudes de los paises en su consumo de este medio suena lo suficiente interesante como para darle una hojeada a esta base de datos. \n",
    "\n",
    "Este es una caso en particular interesante para el reconocimiento de patrones dado que la cantidad de datos de algo tan personal como el gusto musical no podria ser analizada por metodos normales, como distribuciones de estadistica o funciones de probabilidad, dado que cuatificar la muscia, una expresion de arte, puede ser algo desafiante, reconocimiento de patrones nos abre una nueva ventana para observar el comportamiento de la sociedad desde el punto de vista de la musica."
   ]
  },
  {
   "cell_type": "code",
   "execution_count": null,
   "metadata": {
    "collapsed": true
   },
   "outputs": [],
   "source": []
  }
 ],
 "metadata": {
  "celltoolbar": "Raw Cell Format",
  "kernelspec": {
   "display_name": "Python 3",
   "language": "python",
   "name": "python3"
  },
  "language_info": {
   "codemirror_mode": {
    "name": "ipython",
    "version": 3
   },
   "file_extension": ".py",
   "mimetype": "text/x-python",
   "name": "python",
   "nbconvert_exporter": "python",
   "pygments_lexer": "ipython3",
   "version": "3.6.1"
  }
 },
 "nbformat": 4,
 "nbformat_minor": 1
}
