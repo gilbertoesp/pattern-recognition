{
 "cells": [
  {
   "cell_type": "markdown",
   "metadata": {},
   "source": [
    "<div style=\"width:100%; overflow:hidden; background-color:#F1F1E6; padding: 10px; border-style: outset; color:#17469e\">\n",
    "    <div style=\"width: 80%; float: left;\">\n",
    "    <h2 align=\"center\">Universidad de Sonora</h2>\n",
    "    <hr style=\"border-width: 3px; border-color:#17469e\">\n",
    "          <h1>Reconocimiento de patrones: Preparación de los datos</h1>\n",
    "          <h4>Ramón Soto C. <a href=\"mailto:rsotoc@moviquest.com/\">(rsotoc@moviquest.com)</a></h4>\n",
    "    </div>\n",
    "    <div style=\"float: right;\">\n",
    "    <img src=\"images/escudo_unison.png\">\n",
    "    </div>\n",
    "</div>"
   ]
  },
  {
   "cell_type": "markdown",
   "metadata": {},
   "source": [
    "## Usabilidad de los datos\n",
    "\n",
    "Los datos son la base de la nueva economía de la información y cada día se incrementa la cantidad de información. Para el año 2020 se espera que hayamos superado el zettabyte de datos producidos por día (1 ZB = 10<sup>21</sup> bytes = 10<sup>9</sup> TB... mh! almacenados en discos SSD de 1TB, en 45 días se formaría una torre de la tierra a la luna, suponiendo que son incompresibles). Estos datos son generados por sensores, GPSs, redes sociales, mensajes electrónicos, transacciones comerciales, publicaciones regulares, etc. ([aquí](https://www.grazitti.com/blog/top-10-big-data-facts-infographic/) un interesante *infográfico* al respecto). Esta cantidad de datos permite generar una gran cantidad de información para analizar virtualmente cualquier problema. Sin embargo, antes de poder explotar la información contenida en ellos y antes de poder generar conocimiento de utilidad para la toma de decisiones, es necesario garantizar que los datos se encuentren en 'buenas condiciones'. \n",
    "\n",
    "\n",
    "La **usabilidad de los datos** es un término utilizado para especificar qué tan fácil es para el usuario, procesar y analizar un determinado conjunto de datos. Aunque la mayoría de las organizaciones cuenta con una gran cantidad de datos, tales datos a menudo están desorganizados, o no pueden ser analizados de manera efectiva para producir información útil para apoyar la toma de decisiones.\n",
    "\n",
    "Existen varias dimensiones para definir la usabilidad de los datos, entre las que se destacan las siguientes:\n",
    "\n",
    "* **[Relevancia](http://resources.boaweb.com/backoffice-blog/the-path-to-data-relevance)**: Se refiere al grado de consistencia entre el contenido de los datos y el área de interés del usuario.\n",
    "* **[Calidad](https://searchdatamanagement.techtarget.com/definition/data-quality)**: La calidad de los datos es una percepción o una evaluación de la idoneidad de los datos para cumplir su propósito en un contexto determinado. En muchas ocasiones, este concepto es el que se utiliza como \"paraguas\" que engloba las características de los datos (como la relevancia).\n",
    "* **[Cobertura](https://stats.oecd.org/glossary/detail.asp?ID=464)** y **[granularidad](https://www.americanlaboratory.com/913-Technical-Articles/350602-Statistics-in-the-Laboratory-Significant-Digits-and-the-Granularity-of-Data/)**: Qué tan amplia es la exploración del universo de elementos y qué tan detallada es el análisis.\n",
    "* **[Accesibilidad](https://amplitude.com/data-accessibility)** y **[documentación](https://www.wur.nl/en/Value-Creation-Cooperation/WDCC/Data-Management-WDCC/Doing/Data-Documentation.htm)**: Facilidad para adquirir y procesar los datos e informaiccón acerca de cómo está conformada (nombres de las variables, su significado, especificaciones de su captura, etc.).\n",
    "* **Facilidad de análisis**: La capacidad para utilizar técnicas \"convencionales\" de procesamiento de datos.\n",
    "\n",
    "Para garantizar tales aspectos, suele ser necesario un procedimiento de preparación de los datos."
   ]
  },
  {
   "cell_type": "markdown",
   "metadata": {},
   "source": [
    "## La fase de preparación de los datos\n",
    "\n",
    "Es una estimación bien conocida entre los científicos de datos que el 80% del tiempo dedicado a la solución de un problema se invierte en la preparación de los datos: \n",
    "\n",
    "![](images/time.jpg)\n",
    "![ ](images/blank.png)\n",
    "\n",
    "El proceso de mejoramiento de los datos es lo que se denomina **preparación de los datos**. \n",
    "![](images/DataPreparation.png)\n",
    "![ ](images/blank.png)\n",
    "* La *limpieza de datos* consiste en rellenar valores faltantes, suavizar datos con ruido, identificar y remover valores atípicos y resolver inconsistencias. \n",
    "* La *integración de datos* es la integración de diversas fuentes de datos: bases de datos, cubos de datos o archivos. \n",
    "* La *selección de datos* consiste en seleccionar el conjunto de datos adecuado para analizar el sistema, incluyendo el muestreo. \n",
    "* La *selección de características* es un proceso mediante el cual se analizan las variables determinantes para describir los datos. \n",
    "* La *transformación de datos* incluye operaciones como normalización, agregación, codificación. "
   ]
  },
  {
   "cell_type": "markdown",
   "metadata": {},
   "source": [
    "<hr style=\"border-width: 3px;\">\n",
    "\n",
    "## Conclusiones\n",
    "\n",
    "* El éxito de un proyecto de reconocimiento de patrones (minería de datos, ciencia de los datos) depende de contar con un conjunto de datos de alta calidad.\n",
    "* Para asegurar la calidad de los datos, se requiere de un análisis exploratorio para detectar posibles deficiencias y corregirlas.\n",
    "* La etapa de preparación de los datos es una de las más costosas en cualquier proyecto de ciencias de los datos."
   ]
  }
 ],
 "metadata": {
  "celltoolbar": "Raw Cell Format",
  "kernelspec": {
   "display_name": "Python 3",
   "language": "python",
   "name": "python3"
  },
  "language_info": {
   "codemirror_mode": {
    "name": "ipython",
    "version": 3
   },
   "file_extension": ".py",
   "mimetype": "text/x-python",
   "name": "python",
   "nbconvert_exporter": "python",
   "pygments_lexer": "ipython3",
   "version": "3.6.1"
  }
 },
 "nbformat": 4,
 "nbformat_minor": 1
}
