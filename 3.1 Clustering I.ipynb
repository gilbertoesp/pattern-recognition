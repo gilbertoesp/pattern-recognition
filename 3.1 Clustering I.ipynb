{
 "cells": [
  {
   "cell_type": "markdown",
   "metadata": {},
   "source": [
    "# Reconocimiento de patrones: Identificación de grupos o Clustering\n",
    "### Ramón Soto C. [(rsotoc@moviquest.com)](mailto:rsotoc@moviquest.com/)\n",
    "![ ](images/blank.png)\n",
    "![agents](images/binary_data_under_a_magnifying.jpg)\n",
    "[ver en nbviewer](http://nbviewer.ipython.org/github/rsotoc/pattern-recognition/blob/master/Clustering%20I.ipynb)"
   ]
  },
  {
   "cell_type": "markdown",
   "metadata": {},
   "source": [
    "## Definición\n",
    "\n",
    "El reconocimiento de patrones se realiza en un ciclo de tres fases principales:\n",
    "\n",
    "1. La identificación o definición de clases en las que se pueden agrupar los elementos de un dominio de interés. Estas clases suelen ser creadas a partir de la observación de características que presentan los elementos bajo observación.\n",
    "2. La asignación de elementos (conocidos) a clases definidas.\n",
    "3. La predicción de nuevas observaciones dada la dinámica observada a partir del conjunto de clases.\n",
    "\n",
    "![](images/heroes.png)\n",
    "\n",
    "Para realizar la construcción de las clases a partir de observaciones, utilizamos un técnica conocida como  *identificación de grupos*, o más comunmente, \"*clustering*\".\n",
    "\n",
    "El clustering consiste en agrupar objetos en grupos de tal manera que los objetos pertenecientes a un grupo (o \"*cluster*\") son más semejantes entre sí que a otros objetos no pertenecientes al grupo.\n",
    "\n",
    "![](images/clusters_aficionados.jpg)\n",
    "![ ](images/blank.png)\n",
    "\n",
    "La semejanza se define a través de diversos rasgos, algunos de los cuales pueden ser de carácter semántico; En la imagen a continuación, por ejemplo, pueden distinguirse dos grupos principales de fans: los \"*amarillos*\" que junto con los \"*azules*\" forman el grupo de \"*fans brasileños*\" en oposición al grupo de fans \"*verdes*\" y fans \"*rojos*\" que conforman el grupo de \"*fans mexicanos*\".\n",
    "\n",
    "El agrupamiento es una habilidad natural de los seres vivos. Las relaciones de semejanza nos permiten identificar grupos incluso como si fueran objetos inexistentes:\n",
    "\n",
    "![](images/law-of-proximity.png)\n",
    "![ ](images/blank.png)\n",
    "![](images/Pattern1.jpg)\n",
    "![ ](images/blank.png)\n",
    "![](images/mmillerimplied.png)\n",
    "![ ](images/blank.png)\n",
    "![](images/gestalt_proximity_dalmation_by_gderanidaye.png)\n",
    "![ ](images/blank.png)\n",
    "![](images/What-Lies-Within-by-um0p3pisdn.png)\n",
    "![ ](images/blank.png)\n"
   ]
  },
  {
   "cell_type": "markdown",
   "metadata": {},
   "source": [
    "<hr style=\"border-width: 3px;\">\n",
    "\n",
    "### Tarea 3\n",
    "\n",
    "* Investigue y explique las funciones de distancia de Hamming, Pearson, Coseno y Gower. \n",
    "\n",
    "**Fecha de entrega**: Martes 29 de agosto.\n"
   ]
  }
 ],
 "metadata": {
  "celltoolbar": "Raw Cell Format",
  "kernelspec": {
   "display_name": "Python 3",
   "language": "python",
   "name": "python3"
  },
  "language_info": {
   "codemirror_mode": {
    "name": "ipython",
    "version": 3
   },
   "file_extension": ".py",
   "mimetype": "text/x-python",
   "name": "python",
   "nbconvert_exporter": "python",
   "pygments_lexer": "ipython3",
   "version": "3.6.1"
  }
 },
 "nbformat": 4,
 "nbformat_minor": 1
}
